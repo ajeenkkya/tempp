{
 "cells": [
  {
   "cell_type": "code",
   "execution_count": 1,
   "metadata": {},
   "outputs": [
    {
     "name": "stderr",
     "output_type": "stream",
     "text": [
      "Using TensorFlow backend.\n"
     ]
    }
   ],
   "source": [
    "from keras.models import load_model\n",
    "import cv2\n",
    "import numpy as np\n",
    "import matplotlib.pyplot as plt\n",
    "import matplotlib.image as mpimg\n",
    "%matplotlib inline"
   ]
  },
  {
   "cell_type": "code",
   "execution_count": 2,
   "metadata": {},
   "outputs": [
    {
     "name": "stdout",
     "output_type": "stream",
     "text": [
      "<keras.engine.sequential.Sequential object at 0x7effaf4f96a0>\n"
     ]
    }
   ],
   "source": [
    "#version1 is the best :)_\n",
    "model1 = load_model('hand_emoji_v5.h5')\n",
    "print(model1)"
   ]
  },
  {
   "cell_type": "code",
   "execution_count": 3,
   "metadata": {},
   "outputs": [],
   "source": [
    "def keras_process_image(img):\n",
    "    image_x = 50\n",
    "    image_y = 50\n",
    "    # Taking a copy of the image\n",
    "    #img =  image.copy()\n",
    "    # Converting from BGR Colours Space to HSV\n",
    "    img =  cv2.cvtColor(img,cv2.COLOR_BGR2HSV)\n",
    "\n",
    "    # Defining HSV Threadholds\n",
    "    lower_threshold = np.array([0, 48, 80], dtype=np.uint8)\n",
    "    upper_threshold = np.array([20, 255, 255], dtype=np.uint8)\n",
    "\n",
    "    # Single Channel mask,denoting presence of colours in the about threshold\n",
    "    skinMask = cv2.inRange(img,lower_threshold,upper_threshold)\n",
    "\n",
    "    # Cleaning up mask using Gaussian Filter\n",
    "    skinMask = cv2.GaussianBlur(skinMask,(3,3),0)\n",
    "\n",
    "    # Extracting skin from the threshold mask\n",
    "    skin  =  cv2.bitwise_and(img,img,mask=skinMask)\n",
    "    \n",
    "    skin = cv2.cvtColor(skin, cv2.COLOR_BGR2GRAY)\n",
    "    (thresh, skin) = cv2.threshold(skin, 128, 255, cv2.THRESH_BINARY | cv2.THRESH_OTSU)\n",
    "    #cv2.imwrite('IMG.jpg', skin)\n",
    "    \n",
    "    #resizing the input image just to be sure\n",
    "    img = cv2.resize(skin, (image_x, image_y)) \n",
    "    kernel = np.ones((2,2),np.uint8)\n",
    "    img = cv2.dilate(img, kernel,iterations = 2)\n",
    "    #img = cv2.erode(img, kernel,iterations = 1)\n",
    "    \n",
    "    \n",
    "    cv2.imwrite('IMG.jpg', img)\n",
    "    \n",
    "    '''kernel = np.ones((5,5),np.uint8)\n",
    "    (thresh, im_bw) = cv2.threshold(img, 128, 255, cv2.THRESH_BINARY | cv2.THRESH_OTSU)\n",
    "    im_bw = ~im_bw\n",
    "    erosion = cv2.erode(im_bw, kernel,iterations = 2)\n",
    "    dilation = cv2.dilate(erosion, kernel,iterations = 3)\n",
    "    #cv2.imwrite('IMG.jpg', dilation)'''\n",
    "    img1 = np.array(img, dtype=np.float32)\n",
    "    img1 = np.reshape(img1, (1, image_x, image_y, -1))\n",
    "    #print(img.shape)\n",
    "    return img, img1\n",
    "\n",
    "def keras_predict(model, image):\n",
    "    processed = image\n",
    "    pred_prob = model.predict(processed)[0]\n",
    "    pred_class = list(pred_prob).index(max(pred_prob))\n",
    "    return max(pred_prob), pred_class"
   ]
  },
  {
   "cell_type": "code",
   "execution_count": 4,
   "metadata": {},
   "outputs": [],
   "source": [
    "letter_count = {5:'rock', 1:'one', 2:'victory', 3:'ok', 4:'high-five', 8:'thumbs-up'}"
   ]
  },
  {
   "cell_type": "code",
   "execution_count": 5,
   "metadata": {},
   "outputs": [
    {
     "data": {
      "image/png": "[encoded data removed]",
      "text/plain": [
       "<Figure size 432x288 with 1 Axes>"
      ]
     },
     "metadata": {
      "needs_background": "light"
     },
     "output_type": "display_data"
    },
    {
     "data": {
      "image/png": "[encoded data removed]",
      "text/plain": [
       "<Figure size 432x288 with 1 Axes>"
      ]
     },
     "metadata": {
      "needs_background": "light"
     },
     "output_type": "display_data"
    },
    {
     "data": {
      "image/png": "[encoded data removed]",
      "text/plain": [
       "<Figure size 432x288 with 1 Axes>"
      ]
     },
     "metadata": {
      "needs_background": "light"
     },
     "output_type": "display_data"
    },
    {
     "data": {
      "image/png": "[encoded data removed]",
      "text/plain": [
       "<Figure size 432x288 with 1 Axes>"
      ]
     },
     "metadata": {
      "needs_background": "light"
     },
     "output_type": "display_data"
    },
    {
     "data": {
      "image/png": "[encoded data removed]",
      "text/plain": [
       "<Figure size 432x288 with 1 Axes>"
      ]
     },
     "metadata": {
      "needs_background": "light"
     },
     "output_type": "display_data"
    }
   ],
   "source": [
    "for i in range(5):\n",
    "    image = cv2.imread(\"IMG_\"+str(i)+\".jpg\")\n",
    "    image, img_data = keras_process_image(image)\n",
    "    cv2.imwrite('newimg'+str(i)+'.jpg', img_data)\n",
    "    prob, cla = keras_predict(model1, img_data)\n",
    "    plt.figure(i+1)\n",
    "    plt.subplot(511+i)\n",
    "    plt.imshow(image)\n",
    "    plt.title(letter_count[cla])\n",
    "    \n",
    "    #letter_count[pred_class] is getting the tag from the dictionary and saving the image with its name\n",
    "    #cv2.imwrite(\"newimg_\"+letter_count[pred_class]+\".jpg\",image)\n",
    "    #print(letter_count[pred_class])\n",
    "    "
   ]
  },
  {
   "cell_type": "code",
   "execution_count": null,
   "metadata": {},
   "outputs": [],
   "source": []
  },
  {
   "cell_type": "code",
   "execution_count": null,
   "metadata": {},
   "outputs": [],
   "source": []
  }
 ],
 "metadata": {
  "kernelspec": {
   "display_name": "Python 3",
   "language": "python",
   "name": "python3"
  },
  "language_info": {
   "codemirror_mode": {
    "name": "ipython",
    "version": 3
   },
   "file_extension": ".py",
   "mimetype": "text/x-python",
   "name": "python",
   "nbconvert_exporter": "python",
   "pygments_lexer": "ipython3",
   "version": "3.6.8"
  }
 },
 "nbformat": 4,
 "nbformat_minor": 2
}
