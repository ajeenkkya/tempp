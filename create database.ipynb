{
 "cells": [
  {
   "cell_type": "code",
   "execution_count": 1,
   "metadata": {},
   "outputs": [],
   "source": [
    "import cv2\n",
    "import numpy as np\n",
    "import os"
   ]
  },
  {
   "cell_type": "code",
   "execution_count": 13,
   "metadata": {},
   "outputs": [],
   "source": [
    "def extractSkin(image):\n",
    "    # Taking a copy of the image\n",
    "    img =  image.copy()\n",
    "    # Converting from BGR Colours Space to HSV\n",
    "    img =  cv2.cvtColor(img,cv2.COLOR_BGR2HSV)\n",
    "\n",
    "    # Defining HSV Threadholds\n",
    "    lower_threshold = np.array([0, 48, 80], dtype=np.uint8)\n",
    "    upper_threshold = np.array([20, 255, 255], dtype=np.uint8)\n",
    "\n",
    "    # Single Channel mask,denoting presence of colours in the about threshold\n",
    "    skinMask = cv2.inRange(img,lower_threshold,upper_threshold)\n",
    "\n",
    "    # Cleaning up mask using Gaussian Filter\n",
    "    skinMask = cv2.GaussianBlur(skinMask,(3,3),0)\n",
    "\n",
    "    # Extracting skin from the threshold mask\n",
    "    skin  =  cv2.bitwise_and(img,img,mask=skinMask)\n",
    "    \n",
    "    skin = cv2.cvtColor(skin, cv2.COLOR_BGR2GRAY)\n",
    "    (thresh, skin) = cv2.threshold(skin, 128, 255, cv2.THRESH_BINARY | cv2.THRESH_OTSU)\n",
    "    kernel = np.ones((3,3),np.uint8)\n",
    "    skin = cv2.erode(skin, kernel,iterations = 2)\n",
    "    skin = cv2.dilate(skin, kernel,iterations = 5)\n",
    "    # Return the Skin image\n",
    "    return skin#cv2.cvtColor(skin,cv2.COLOR_HSV2BGR)"
   ]
  },
  {
   "cell_type": "code",
   "execution_count": 18,
   "metadata": {},
   "outputs": [
    {
     "name": "stdout",
     "output_type": "stream",
     "text": [
      "Creating...data/train/4/four_325.jpg\n",
      "Creating...data/train/4/four_326.jpg\n",
      "Creating...data/train/4/four_327.jpg\n",
      "Creating...data/train/4/four_328.jpg\n",
      "Creating...data/train/4/four_329.jpg\n",
      "Creating...data/train/4/four_330.jpg\n",
      "Creating...data/train/4/four_331.jpg\n",
      "Creating...data/train/4/four_332.jpg\n",
      "Creating...data/train/4/four_333.jpg\n",
      "Creating...data/train/4/four_334.jpg\n",
      "Creating...data/train/4/four_335.jpg\n",
      "Creating...data/train/4/four_336.jpg\n",
      "Creating...data/train/4/four_337.jpg\n",
      "Creating...data/train/4/four_338.jpg\n",
      "Creating...data/train/4/four_339.jpg\n",
      "Creating...data/train/4/four_340.jpg\n",
      "Creating...data/train/4/four_341.jpg\n",
      "Creating...data/train/4/four_342.jpg\n",
      "Creating...data/train/4/four_343.jpg\n",
      "Creating...data/train/4/four_344.jpg\n",
      "Creating...data/train/4/four_345.jpg\n",
      "Creating...data/train/4/four_346.jpg\n",
      "Creating...data/train/4/four_347.jpg\n",
      "Creating...data/train/4/four_348.jpg\n",
      "Creating...data/train/4/four_349.jpg\n",
      "Creating...data/train/4/four_350.jpg\n",
      "Creating...data/train/4/four_351.jpg\n",
      "Creating...data/train/4/four_352.jpg\n",
      "Creating...data/train/4/four_353.jpg\n",
      "Creating...data/train/4/four_354.jpg\n",
      "Creating...data/train/4/four_355.jpg\n",
      "Creating...data/train/4/four_356.jpg\n",
      "Creating...data/train/4/four_357.jpg\n",
      "Creating...data/train/4/four_358.jpg\n",
      "Creating...data/train/4/four_359.jpg\n",
      "Creating...data/train/4/four_360.jpg\n",
      "Creating...data/train/4/four_361.jpg\n",
      "Creating...data/train/4/four_362.jpg\n"
     ]
    }
   ],
   "source": [
    "# Read the video from specified path \n",
    "cam = cv2.VideoCapture(\"vdo_4.mp4\")\n",
    "try: \n",
    "    if not os.path.exists('data/train/4'): \n",
    "        os.makedirs('data/train/4')\n",
    "except OSError: \n",
    "    print ('Error: Creating directory of data') \n",
    "\n",
    "# frame \n",
    "currentframe = 325\n",
    "while(True): \n",
    "      \n",
    "    # reading from frame \n",
    "    ret,frame = cam.read() \n",
    "    if ret:  \n",
    "        skin = extractSkin(frame)\n",
    "        name = 'data/train/4/four_' + str(currentframe) + '.jpg'\n",
    "        print ('Creating...' + name) \n",
    "  \n",
    "        # writing the extracted images \n",
    "        cv2.imwrite(name, skin) \n",
    "        currentframe += 1\n",
    "    else: \n",
    "        break\n",
    "\n",
    "cam.release() \n",
    "cv2.destroyAllWindows()"
   ]
  },
  {
   "cell_type": "code",
   "execution_count": null,
   "metadata": {},
   "outputs": [],
   "source": []
  }
 ],
 "metadata": {
  "kernelspec": {
   "display_name": "Python 3",
   "language": "python",
   "name": "python3"
  },
  "language_info": {
   "codemirror_mode": {
    "name": "ipython",
    "version": 3
   },
   "file_extension": ".py",
   "mimetype": "text/x-python",
   "name": "python",
   "nbconvert_exporter": "python",
   "pygments_lexer": "ipython3",
   "version": "3.6.8"
  }
 },
 "nbformat": 4,
 "nbformat_minor": 2
}
